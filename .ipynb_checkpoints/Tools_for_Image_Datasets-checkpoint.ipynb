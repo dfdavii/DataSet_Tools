{
 "cells": [
  {
   "cell_type": "markdown",
   "metadata": {},
   "source": [
    "\n",
    "<center><u><H1>Tools to help build Custom Image Datasets</H1></u></center>\n",
    "<center><u><H0>This Collection of tools is by no means of my doing</H0></u></center>\n",
    "<center><u><H0>I have collected these tools to assit me in building my Image DataSets</H0></u></center>\n",
    "<center><u><H0>I hope you guys find them useful</H0></u></center>\n",
    "\n"
   ]
  },
  {
   "cell_type": "markdown",
   "metadata": {},
   "source": [
    "## Tool to Scrape the Web for images\n",
    "### You will need to install icrawler: pip install icrawler\n"
   ]
  },
  {
   "cell_type": "code",
   "execution_count": null,
   "metadata": {},
   "outputs": [],
   "source": [
    "from icrawler.builtin import GoogleImageCrawler"
   ]
  },
  {
   "cell_type": "markdown",
   "metadata": {},
   "source": [
    "### Put in a Key Word to search for and the number of images you want. It should create the output Directory for you"
   ]
  },
  {
   "cell_type": "code",
   "execution_count": null,
   "metadata": {},
   "outputs": [],
   "source": [
    "for keyword in ['boat']:\n",
    "    google_crawler = GoogleImageCrawler(\n",
    "        parser_threads=2,\n",
    "        downloader_threads=4,\n",
    "        storage={'root_dir': 'image1/{}'.format(keyword)}\n",
    "    \n",
    "    )\n",
    "    google_crawler.crawl(\n",
    "        keyword=keyword, max_num=10, min_size=(200, 200))"
   ]
  },
  {
   "cell_type": "code",
   "execution_count": null,
   "metadata": {},
   "outputs": [],
   "source": []
  },
  {
   "cell_type": "markdown",
   "metadata": {},
   "source": [
    "## Another Tool to scrape the web for images\n",
    "### pip install google_images_download"
   ]
  },
  {
   "cell_type": "markdown",
   "metadata": {},
   "source": [
    "from google_images_download import google_images_download"
   ]
  },
  {
   "cell_type": "code",
   "execution_count": null,
   "metadata": {},
   "outputs": [],
   "source": [
    "from google_images_download import google_images_download"
   ]
  },
  {
   "cell_type": "code",
   "execution_count": null,
   "metadata": {},
   "outputs": [],
   "source": [
    "response = google_images_download.googleimagesdownload()"
   ]
  },
  {
   "cell_type": "code",
   "execution_count": null,
   "metadata": {},
   "outputs": [],
   "source": [
    "arguments = {\"keywords\":\"car\",\"limit\":10, \"format\": \"jpg\", \"root_dir\":\"images/\", \"chromedriver\":\"D:/Downloads/chromedriver.exe\", \"print_urls\":False}"
   ]
  },
  {
   "cell_type": "code",
   "execution_count": null,
   "metadata": {
    "scrolled": true
   },
   "outputs": [],
   "source": [
    "response.download(arguments)"
   ]
  },
  {
   "cell_type": "code",
   "execution_count": null,
   "metadata": {},
   "outputs": [],
   "source": []
  },
  {
   "cell_type": "markdown",
   "metadata": {},
   "source": [
    "#  Tool to Slice frames from video file"
   ]
  },
  {
   "cell_type": "code",
   "execution_count": 4,
   "metadata": {},
   "outputs": [
    {
     "name": "stdout",
     "output_type": "stream",
     "text": [
      "Creating..../data/frame500.jpg\n",
      "Creating..../data/frame530.jpg\n",
      "Creating..../data/frame560.jpg\n",
      "Creating..../data/frame590.jpg\n",
      "Creating..../data/frame620.jpg\n",
      "Creating..../data/frame650.jpg\n",
      "Creating..../data/frame680.jpg\n",
      "Creating..../data/frame710.jpg\n",
      "Creating..../data/frame740.jpg\n",
      "Creating..../data/frame770.jpg\n",
      "Creating..../data/frame800.jpg\n",
      "Creating..../data/frame830.jpg\n",
      "Creating..../data/frame860.jpg\n",
      "Creating..../data/frame890.jpg\n",
      "Creating..../data/frame920.jpg\n",
      "Creating..../data/frame950.jpg\n",
      "Creating..../data/frame980.jpg\n",
      "Creating..../data/frame1010.jpg\n",
      "Creating..../data/frame1040.jpg\n",
      "Creating..../data/frame1070.jpg\n",
      "Creating..../data/frame1100.jpg\n",
      "Creating..../data/frame1130.jpg\n",
      "Creating..../data/frame1160.jpg\n",
      "Creating..../data/frame1190.jpg\n",
      "Creating..../data/frame1220.jpg\n",
      "Creating..../data/frame1250.jpg\n",
      "Creating..../data/frame1280.jpg\n",
      "Creating..../data/frame1310.jpg\n",
      "Creating..../data/frame1340.jpg\n",
      "Creating..../data/frame1370.jpg\n",
      "Creating..../data/frame1400.jpg\n",
      "Creating..../data/frame1430.jpg\n"
     ]
    }
   ],
   "source": [
    "\n",
    "# Importing all necessary libraries \n",
    "import cv2 \n",
    "import os \n",
    "import time\n",
    "\n",
    "# Define the duration (in seconds) of the video capture here\n",
    "capture_duration = 10\n",
    "  \n",
    "# Read the video from specified path \n",
    "cam = cv2.VideoCapture(\"C:/Users/joev.ROSEBURGUS/Desktop/Data_Collection/DataSet_Tools/sample_720p.mp4\") \n",
    "  \n",
    "try: \n",
    "      \n",
    "    # creating a folder named data \n",
    "    if not os.path.exists('data'): \n",
    "        os.makedirs('data') \n",
    "  \n",
    "# if not created then raise error \n",
    "except OSError: \n",
    "    print ('Error: Creating directory of data') \n",
    "  \n",
    "# frame \n",
    "count = 500\n",
    "  \n",
    "start_time = time.time()\n",
    "while( int(time.time() - start_time) < capture_duration ): \n",
    "      \n",
    "    # reading from frame \n",
    "    ret,frame = cam.read() \n",
    "  \n",
    "    if ret: \n",
    "        # if video is still left continue creating images \n",
    "        name = './data/frame{:d}'.format(count) + '.jpg'\n",
    "        print ('Creating...' + name) \n",
    "  \n",
    "        # Delay to to get next frame\n",
    "        count += 30 # i.e. at 30 fps, this advances one second\n",
    "        cam.set(1, count)\n",
    "        cv2.imwrite(name, frame) \n",
    "  \n",
    "    else: \n",
    "        break\n",
    "\n",
    "  \n",
    "# Release all space and windows once done \n",
    "cam.release() \n",
    "cv2.destroyAllWindows() \n"
   ]
  },
  {
   "cell_type": "markdown",
   "metadata": {},
   "source": [
    "# Tool to Rename all Images in a folder\n",
    "\n",
    "\n"
   ]
  },
  {
   "cell_type": "code",
   "execution_count": null,
   "metadata": {},
   "outputs": [],
   "source": [
    "import os"
   ]
  },
  {
   "cell_type": "code",
   "execution_count": null,
   "metadata": {},
   "outputs": [],
   "source": [
    "imdir = \"image_out/\""
   ]
  },
  {
   "cell_type": "code",
   "execution_count": null,
   "metadata": {},
   "outputs": [],
   "source": [
    "n = 0\n",
    "for imfile in os.scandir(imdir):\n",
    "    os.rename(imfile.path, os.path.join(imdir, '{:06}.jpg'.format(n)))\n",
    "    n += 1"
   ]
  },
  {
   "cell_type": "code",
   "execution_count": null,
   "metadata": {},
   "outputs": [],
   "source": []
  },
  {
   "cell_type": "markdown",
   "metadata": {},
   "source": [
    "# Tool to Resize all images in a folder and keep  ratio"
   ]
  },
  {
   "cell_type": "code",
   "execution_count": null,
   "metadata": {},
   "outputs": [],
   "source": [
    "import sys\n",
    "import os\n",
    "import numpy as np\n",
    "from os import walk\n",
    "import cv2\n",
    " \n",
    "# width to resize\n",
    "width = int (640)\n",
    "# height to resize\n",
    "height = int(480)\n",
    "# location of the input dataset\n",
    "input_dir = (\"image_out\")\n",
    "# location of the output dataset\n",
    "out_dir = (\"image_out\")\n",
    " \n",
    " \n",
    "\n",
    " \n",
    "print(\"Working...\")\n",
    " \n",
    "# get all the pictures in directory\n",
    "images = []\n",
    "ext = (\".jpeg\", \".jpg\", \".png\")\n",
    " \n",
    "for (dirpath, dirnames, filenames) in walk(input_dir):\n",
    "        for filename in filenames:\n",
    "            if filename.endswith(ext):\n",
    "                images.append(os.path.join(dirpath, filename))\n",
    " \n",
    "for image in images:\n",
    "        img = cv2.imread(image, cv2.IMREAD_UNCHANGED)\n",
    "    \n",
    "        h, w = img.shape[:2]\n",
    "        pad_bottom, pad_right = 0, 0\n",
    "        ratio = w / h\n",
    " \n",
    "        if h > height or w > width:\n",
    "        # shrinking image algorithm\n",
    "            interp = cv2.INTER_AREA\n",
    "        else:\n",
    "        # stretching image algorithm\n",
    "            interp = cv2.INTER_CUBIC\n",
    " \n",
    "        w = width\n",
    "        h = round(w / ratio)\n",
    "        if h > height:\n",
    "            h = height\n",
    "        w = round(h * ratio)\n",
    "        pad_bottom = abs(height - h)\n",
    "        pad_right = abs(width - w)\n",
    " \n",
    "        scaled_img = cv2.resize(img, (w, h), interpolation=interp)\n",
    "        padded_img = cv2.copyMakeBorder(\n",
    "        scaled_img,0,pad_bottom,0,pad_right,borderType=cv2.BORDER_CONSTANT,value=[0,0,0])\n",
    " \n",
    "        cv2.imwrite(os.path.join(out_dir, os.path.basename(image)), padded_img)\n",
    " \n",
    " \n",
    "print(\"Completed!\")"
   ]
  },
  {
   "cell_type": "code",
   "execution_count": null,
   "metadata": {},
   "outputs": [],
   "source": []
  },
  {
   "cell_type": "markdown",
   "metadata": {},
   "source": [
    "## Reference:\n",
    "\n",
    "http://icrawler.readthedocs.io/en/latest/\n",
    "\n",
    "https://github.com/hardikvasa/google-images-download\n",
    "\n",
    "https://sites.google.com/a/chromium.org/chromedriver/downloads"
   ]
  },
  {
   "cell_type": "code",
   "execution_count": null,
   "metadata": {},
   "outputs": [],
   "source": []
  }
 ],
 "metadata": {
  "kernelspec": {
   "display_name": "Python 3",
   "language": "python",
   "name": "python3"
  },
  "language_info": {
   "codemirror_mode": {
    "name": "ipython",
    "version": 3
   },
   "file_extension": ".py",
   "mimetype": "text/x-python",
   "name": "python",
   "nbconvert_exporter": "python",
   "pygments_lexer": "ipython3",
   "version": "3.7.3"
  }
 },
 "nbformat": 4,
 "nbformat_minor": 2
}
